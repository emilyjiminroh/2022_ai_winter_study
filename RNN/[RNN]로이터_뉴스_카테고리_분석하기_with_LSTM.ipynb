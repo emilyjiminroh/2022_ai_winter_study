{
  "nbformat": 4,
  "nbformat_minor": 0,
  "metadata": {
    "colab": {
      "name": "[RNN]로이터_뉴스_카테고리_분석하기_with_LSTM.ipynb",
      "provenance": [],
      "collapsed_sections": [],
      "authorship_tag": "ABX9TyPkB2w+AskYDnsQxJB/M4Mv",
      "include_colab_link": true
    },
    "kernelspec": {
      "name": "python3",
      "display_name": "Python 3"
    },
    "language_info": {
      "name": "python"
    },
    "accelerator": "GPU"
  },
  "cells": [
    {
      "cell_type": "markdown",
      "metadata": {
        "id": "view-in-github",
        "colab_type": "text"
      },
      "source": [
        "<a href=\"https://colab.research.google.com/github/emilyjiminroh/2022_ai_winter_study/blob/main/RNN/%5BRNN%5D%EB%A1%9C%EC%9D%B4%ED%84%B0_%EB%89%B4%EC%8A%A4_%EC%B9%B4%ED%85%8C%EA%B3%A0%EB%A6%AC_%EB%B6%84%EC%84%9D%ED%95%98%EA%B8%B0_with_LSTM.ipynb\" target=\"_parent\"><img src=\"https://colab.research.google.com/assets/colab-badge.svg\" alt=\"Open In Colab\"/></a>"
      ]
    },
    {
      "cell_type": "code",
      "execution_count": 1,
      "metadata": {
        "colab": {
          "base_uri": "https://localhost:8080/"
        },
        "id": "CdRC5J8ewHh6",
        "outputId": "72f59cac-a130-4e5c-a566-f65cc48742e7"
      },
      "outputs": [
        {
          "output_type": "stream",
          "name": "stdout",
          "text": [
            "\u001b[K     |████████████████████████████████| 411.5 MB 8.6 kB/s \n",
            "\u001b[K     |████████████████████████████████| 3.8 MB 40.1 MB/s \n",
            "\u001b[K     |████████████████████████████████| 50 kB 6.0 MB/s \n",
            "\u001b[K     |████████████████████████████████| 503 kB 43.5 MB/s \n",
            "\u001b[?25h  Building wheel for gast (setup.py) ... \u001b[?25l\u001b[?25hdone\n",
            "\u001b[31mERROR: pip's dependency resolver does not currently take into account all the packages that are installed. This behaviour is the source of the following dependency conflicts.\n",
            "tensorflow 2.8.0 requires tf-estimator-nightly==2.8.0.dev2021122109, which is not installed.\n",
            "tensorflow 2.8.0 requires tensorboard<2.9,>=2.8, but you have tensorboard 1.15.0 which is incompatible.\n",
            "tensorflow-probability 0.15.0 requires gast>=0.3.2, but you have gast 0.2.2 which is incompatible.\u001b[0m\n",
            "TensorFlow 1.x selected.\n"
          ]
        }
      ],
      "source": [
        "!pip install -q tensorflow-gpu==1.15.0\n",
        "%tensorflow_version 1.x\n",
        "import tensorflow as tf\n",
        "import matplotlib.pyplot as plt\n",
        "import numpy\n",
        "import os"
      ]
    },
    {
      "cell_type": "code",
      "source": [
        "# 로이터 뉴스 데이터셋 불러오기\n",
        "from keras.datasets import reuters\n",
        "from keras.models import Sequential\n",
        "from keras.layers import Dense, LSTM, Embedding\n",
        "from keras.preprocessing import sequence\n",
        "from keras.utils import np_utils"
      ],
      "metadata": {
        "colab": {
          "base_uri": "https://localhost:8080/"
        },
        "id": "xD2oT65LwdgP",
        "outputId": "cc827ba9-d62b-44e3-e7f8-34787e152374"
      },
      "execution_count": 2,
      "outputs": [
        {
          "output_type": "stream",
          "name": "stderr",
          "text": [
            "Using TensorFlow backend.\n"
          ]
        }
      ]
    },
    {
      "cell_type": "code",
      "source": [
        "# seed 값 설정\n",
        "seed = 0\n",
        "numpy.random.seed(seed)\n",
        "tf.compat.v1.set_random_seed(3)"
      ],
      "metadata": {
        "id": "TIXqjnr1we5s"
      },
      "execution_count": 3,
      "outputs": []
    },
    {
      "cell_type": "code",
      "source": [
        "# 불러온 데이터를 학습셋, 테스트셋으로 나누기\n",
        "(X_train, Y_train), (X_test, Y_test) = reuters.load_data(num_words=1000, test_split=0.2)"
      ],
      "metadata": {
        "colab": {
          "base_uri": "https://localhost:8080/"
        },
        "id": "gv62vhDYwhQm",
        "outputId": "e840c3c4-3739-4a47-fae7-c0a9f5431a4e"
      },
      "execution_count": 4,
      "outputs": [
        {
          "output_type": "stream",
          "name": "stdout",
          "text": [
            "Downloading data from https://s3.amazonaws.com/text-datasets/reuters.npz\n",
            "2113536/2110848 [==============================] - 0s 0us/step\n"
          ]
        },
        {
          "output_type": "stream",
          "name": "stderr",
          "text": [
            "/tensorflow-1.15.2/python3.7/keras/datasets/reuters.py:85: VisibleDeprecationWarning: Creating an ndarray from ragged nested sequences (which is a list-or-tuple of lists-or-tuples-or ndarrays with different lengths or shapes) is deprecated. If you meant to do this, you must specify 'dtype=object' when creating the ndarray.\n",
            "  x_train, y_train = np.array(xs[:idx]), np.array(labels[:idx])\n",
            "/tensorflow-1.15.2/python3.7/keras/datasets/reuters.py:86: VisibleDeprecationWarning: Creating an ndarray from ragged nested sequences (which is a list-or-tuple of lists-or-tuples-or ndarrays with different lengths or shapes) is deprecated. If you meant to do this, you must specify 'dtype=object' when creating the ndarray.\n",
            "  x_test, y_test = np.array(xs[idx:]), np.array(labels[idx:])\n"
          ]
        }
      ]
    },
    {
      "cell_type": "code",
      "source": [
        "# 데이터 확인하기\n",
        "category = numpy.max(Y_train) + 1\n",
        "print(category, '카테고리')\n",
        "print(len(X_train), '학습용 뉴스 기사')\n",
        "print(len(X_test), '테스트용 뉴스 기사')\n",
        "print(X_train[0])"
      ],
      "metadata": {
        "colab": {
          "base_uri": "https://localhost:8080/"
        },
        "id": "_9yUxb-SwjNh",
        "outputId": "ec9a1b23-61c2-4a24-976c-d51cca62d786"
      },
      "execution_count": 5,
      "outputs": [
        {
          "output_type": "stream",
          "name": "stdout",
          "text": [
            "46 카테고리\n",
            "8982 학습용 뉴스 기사\n",
            "2246 테스트용 뉴스 기사\n",
            "[1, 2, 2, 8, 43, 10, 447, 5, 25, 207, 270, 5, 2, 111, 16, 369, 186, 90, 67, 7, 89, 5, 19, 102, 6, 19, 124, 15, 90, 67, 84, 22, 482, 26, 7, 48, 4, 49, 8, 864, 39, 209, 154, 6, 151, 6, 83, 11, 15, 22, 155, 11, 15, 7, 48, 9, 2, 2, 504, 6, 258, 6, 272, 11, 15, 22, 134, 44, 11, 15, 16, 8, 197, 2, 90, 67, 52, 29, 209, 30, 32, 132, 6, 109, 15, 17, 12]\n"
          ]
        }
      ]
    },
    {
      "cell_type": "code",
      "source": [
        "# 데이터 전처리\n",
        "# sequence().pad_sequences() 각 기사의 단어 수가 제각각 다르므로, maxlen 만큼의 단어 수로 맞춘다. \n",
        "x_train = sequence.pad_sequences(X_train, maxlen=100)\n",
        "x_test = sequence.pad_sequences(X_test, maxlen=100)\n",
        "# 원-핫 인코딩\n",
        "y_train = np_utils.to_categorical(Y_train)\n",
        "y_test = np_utils.to_categorical(Y_test)"
      ],
      "metadata": {
        "id": "wsxQfVVjwkuI"
      },
      "execution_count": 6,
      "outputs": []
    },
    {
      "cell_type": "code",
      "source": [
        "# 모델의 설정\n",
        "model = Sequential()\n",
        "# Embedding ('불러온 단어의 총 개수','기사당 단어 수')\n",
        "model.add(Embedding(1000, 100))\n",
        "# LSTM('기사랑 단어 수','기타 옵션')은 RNN에서 기억 값에 대한 가중치 제어, 활성화 함수는 tanh 사용\n",
        "model.add(LSTM(100, activation='tanh'))\n",
        "model.add(Dense(46, activation='softmax'))"
      ],
      "metadata": {
        "colab": {
          "base_uri": "https://localhost:8080/"
        },
        "id": "fxy_TRKHxFoL",
        "outputId": "48d0e208-5fb6-4223-c8cb-cc0e83c0b8fd"
      },
      "execution_count": 7,
      "outputs": [
        {
          "output_type": "stream",
          "name": "stdout",
          "text": [
            "WARNING:tensorflow:From /tensorflow-1.15.2/python3.7/tensorflow_core/python/ops/resource_variable_ops.py:1630: calling BaseResourceVariable.__init__ (from tensorflow.python.ops.resource_variable_ops) with constraint is deprecated and will be removed in a future version.\n",
            "Instructions for updating:\n",
            "If using Keras pass *_constraint arguments to layers.\n"
          ]
        }
      ]
    },
    {
      "cell_type": "code",
      "source": [
        "# 모델의 컴파일\n",
        "model.compile(loss='categorical_crossentropy',\n",
        "            optimizer='adam',\n",
        "            metrics=['accuracy'])"
      ],
      "metadata": {
        "id": "8OAyDcWyxHXW"
      },
      "execution_count": 8,
      "outputs": []
    },
    {
      "cell_type": "code",
      "source": [
        "# 모델의 실행\n",
        "history = model.fit(x_train, y_train, batch_size=100, epochs=20, validation_data=(x_test, y_test))"
      ],
      "metadata": {
        "colab": {
          "base_uri": "https://localhost:8080/"
        },
        "id": "d3iFgfhExJiE",
        "outputId": "167ecb70-a7e2-4c22-96b7-9993c7abdd5c"
      },
      "execution_count": 9,
      "outputs": [
        {
          "output_type": "stream",
          "name": "stdout",
          "text": [
            "WARNING:tensorflow:From /tensorflow-1.15.2/python3.7/keras/backend/tensorflow_backend.py:422: The name tf.global_variables is deprecated. Please use tf.compat.v1.global_variables instead.\n",
            "\n",
            "Train on 8982 samples, validate on 2246 samples\n",
            "Epoch 1/20\n",
            "8982/8982 [==============================] - 17s 2ms/step - loss: 2.5576 - accuracy: 0.3717 - val_loss: 2.0103 - val_accuracy: 0.4920\n",
            "Epoch 2/20\n",
            "8982/8982 [==============================] - 9s 1ms/step - loss: 2.0733 - accuracy: 0.4555 - val_loss: 2.2589 - val_accuracy: 0.2484\n",
            "Epoch 3/20\n",
            "8982/8982 [==============================] - 9s 1ms/step - loss: 1.9007 - accuracy: 0.4845 - val_loss: 1.8029 - val_accuracy: 0.5321\n",
            "Epoch 4/20\n",
            "8982/8982 [==============================] - 9s 1ms/step - loss: 1.7386 - accuracy: 0.5405 - val_loss: 1.7258 - val_accuracy: 0.5583\n",
            "Epoch 5/20\n",
            "8982/8982 [==============================] - 9s 1ms/step - loss: 1.6516 - accuracy: 0.5684 - val_loss: 1.6553 - val_accuracy: 0.5971\n",
            "Epoch 6/20\n",
            "8982/8982 [==============================] - 9s 1ms/step - loss: 1.5978 - accuracy: 0.5925 - val_loss: 1.5970 - val_accuracy: 0.6015\n",
            "Epoch 7/20\n",
            "8982/8982 [==============================] - 9s 1ms/step - loss: 1.4752 - accuracy: 0.6249 - val_loss: 1.5638 - val_accuracy: 0.6077\n",
            "Epoch 8/20\n",
            "8982/8982 [==============================] - 9s 1ms/step - loss: 1.3928 - accuracy: 0.6440 - val_loss: 1.4824 - val_accuracy: 0.6256\n",
            "Epoch 9/20\n",
            "8982/8982 [==============================] - 9s 1ms/step - loss: 1.2979 - accuracy: 0.6683 - val_loss: 1.4250 - val_accuracy: 0.6425\n",
            "Epoch 10/20\n",
            "8982/8982 [==============================] - 9s 987us/step - loss: 1.2368 - accuracy: 0.6798 - val_loss: 1.3383 - val_accuracy: 0.6603\n",
            "Epoch 11/20\n",
            "8982/8982 [==============================] - 10s 1ms/step - loss: 1.1624 - accuracy: 0.7016 - val_loss: 1.3371 - val_accuracy: 0.6638\n",
            "Epoch 12/20\n",
            "8982/8982 [==============================] - 9s 986us/step - loss: 1.1004 - accuracy: 0.7213 - val_loss: 1.3081 - val_accuracy: 0.6692\n",
            "Epoch 13/20\n",
            "8982/8982 [==============================] - 9s 969us/step - loss: 1.0526 - accuracy: 0.7327 - val_loss: 1.2750 - val_accuracy: 0.6861\n",
            "Epoch 14/20\n",
            "8982/8982 [==============================] - 9s 964us/step - loss: 1.0443 - accuracy: 0.7379 - val_loss: 1.2847 - val_accuracy: 0.6906\n",
            "Epoch 15/20\n",
            "8982/8982 [==============================] - 9s 954us/step - loss: 0.9743 - accuracy: 0.7534 - val_loss: 1.2554 - val_accuracy: 0.6870\n",
            "Epoch 16/20\n",
            "8982/8982 [==============================] - 8s 945us/step - loss: 0.9224 - accuracy: 0.7665 - val_loss: 1.2642 - val_accuracy: 0.6821\n",
            "Epoch 17/20\n",
            "8982/8982 [==============================] - 9s 975us/step - loss: 0.8980 - accuracy: 0.7707 - val_loss: 1.2855 - val_accuracy: 0.6825\n",
            "Epoch 18/20\n",
            "8982/8982 [==============================] - 9s 958us/step - loss: 0.8630 - accuracy: 0.7788 - val_loss: 1.2510 - val_accuracy: 0.6901\n",
            "Epoch 19/20\n",
            "8982/8982 [==============================] - 9s 954us/step - loss: 0.8211 - accuracy: 0.7897 - val_loss: 1.2772 - val_accuracy: 0.6866\n",
            "Epoch 20/20\n",
            "8982/8982 [==============================] - 9s 964us/step - loss: 0.8008 - accuracy: 0.7948 - val_loss: 1.2258 - val_accuracy: 0.7035\n"
          ]
        }
      ]
    },
    {
      "cell_type": "code",
      "source": [
        "# 테스트 정확도 출력\n",
        "print(\"\\n Test Accuracy: %.4f\" % (model.evaluate(x_test, y_test)[1]))"
      ],
      "metadata": {
        "colab": {
          "base_uri": "https://localhost:8080/"
        },
        "id": "LZsi17THxLUv",
        "outputId": "f4890000-1efd-4f2f-84f2-4d7f35d26e98"
      },
      "execution_count": 10,
      "outputs": [
        {
          "output_type": "stream",
          "name": "stdout",
          "text": [
            "2246/2246 [==============================] - 1s 614us/step\n",
            "\n",
            " Test Accuracy: 0.7035\n"
          ]
        }
      ]
    },
    {
      "cell_type": "code",
      "source": [
        "# 테스트 셋의 오차\n",
        "y_vloss = history.history['val_loss']"
      ],
      "metadata": {
        "id": "G88-3XuYxOB8"
      },
      "execution_count": 11,
      "outputs": []
    },
    {
      "cell_type": "code",
      "source": [
        "# 학습셋의 오차\n",
        "y_loss = history.history['loss']"
      ],
      "metadata": {
        "id": "-EMuiZ6VxRP3"
      },
      "execution_count": 12,
      "outputs": []
    },
    {
      "cell_type": "code",
      "source": [
        "# 그래프로 표현\n",
        "x_len = numpy.arange(len(y_loss))\n",
        "plt.plot(x_len, y_vloss, marker='.', c=\"red\", label='Testset_loss')\n",
        "plt.plot(x_len, y_loss, marker='.', c=\"blue\", label='Trainset_loss')\n",
        "\n",
        "# 그래프에 그리드를 주고 레이블을 표시\n",
        "plt.legend(loc='upper right')\n",
        "plt.grid()\n",
        "plt.xlabel('epoch')\n",
        "plt.ylabel('loss')\n",
        "plt.show()"
      ],
      "metadata": {
        "colab": {
          "base_uri": "https://localhost:8080/",
          "height": 279
        },
        "id": "B5SpGhs1xTfm",
        "outputId": "12ec4b35-3da1-40dc-9c2b-224f0c352b09"
      },
      "execution_count": 15,
      "outputs": [
        {
          "output_type": "display_data",
          "data": {
            "image/png": "[encoded data removed]",
            "text/plain": [
              "<Figure size 432x288 with 1 Axes>"
            ]
          },
          "metadata": {
            "needs_background": "light"
          }
        }
      ]
    },
    {
      "cell_type": "code",
      "source": [
        ""
      ],
      "metadata": {
        "id": "ZKT3o7n3xWtI"
      },
      "execution_count": 14,
      "outputs": []
    }
  ]
}