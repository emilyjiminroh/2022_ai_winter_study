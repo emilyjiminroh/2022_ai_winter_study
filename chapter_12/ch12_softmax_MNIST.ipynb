{
  "nbformat": 4,
  "nbformat_minor": 0,
  "metadata": {
    "colab": {
      "name": "ch12_softmax_MNIST.ipynb",
      "provenance": [],
      "include_colab_link": true
    },
    "kernelspec": {
      "name": "python3",
      "display_name": "Python 3"
    },
    "language_info": {
      "name": "python"
    },
    "accelerator": "GPU"
  },
  "cells": [
    {
      "cell_type": "markdown",
      "metadata": {
        "id": "view-in-github",
        "colab_type": "text"
      },
      "source": [
        "<a href=\"https://colab.research.google.com/github/emilyjiminroh/2022_ai_winter_study/blob/main/chapter_12/ch12_softmax_MNIST.ipynb\" target=\"_parent\"><img src=\"https://colab.research.google.com/assets/colab-badge.svg\" alt=\"Open In Colab\"/></a>"
      ]
    },
    {
      "cell_type": "markdown",
      "source": [
        "##**파이토치를 이용한 MNIST 손글씨 분류하기**\n",
        "\n",
        "pytorch documentation : https://pytorch.org/docs/stable/index.html"
      ],
      "metadata": {
        "id": "ouY-XVmVB9tW"
      }
    },
    {
      "cell_type": "code",
      "source": [
        "import torch\n",
        "import torchvision.datasets as dsets\n",
        "import torchvision.transforms as transforms\n",
        "from torch.utils.data import DataLoader\n",
        "import torch.nn as nn\n",
        "import matplotlib.pyplot as plt\n",
        "import random"
      ],
      "metadata": {
        "id": "mL56aELJB8OR"
      },
      "execution_count": 1,
      "outputs": []
    },
    {
      "cell_type": "markdown",
      "source": [
        "##**GPU 사용설정**\n",
        "\n",
        "런타임 > 런타임 유형 변경 > GPU"
      ],
      "metadata": {
        "id": "obzw0lwJCg5q"
      }
    },
    {
      "cell_type": "code",
      "source": [
        "USE_CUDA = torch.cuda.is_available() # GPU를 사용가능하면 True, 아니라면 False를 리턴\n",
        "device = torch.device(\"cuda\" if USE_CUDA else \"cpu\") # GPU 사용 가능하면 사용하고 아니면 CPU 사용\n",
        "print(device)"
      ],
      "metadata": {
        "colab": {
          "base_uri": "https://localhost:8080/"
        },
        "id": "jDs5sBmQCIBT",
        "outputId": "61c6e1ff-766c-45b7-a252-668fbf3354d4"
      },
      "execution_count": 2,
      "outputs": [
        {
          "output_type": "stream",
          "name": "stdout",
          "text": [
            "cuda\n"
          ]
        }
      ]
    },
    {
      "cell_type": "code",
      "source": [
        "# 시드 고정 => 성능\n",
        "random.seed(777)\n",
        "torch.manual_seed(777)\n",
        "if device == 'cuda':\n",
        "    torch.cuda.manual_seed_all(777)"
      ],
      "metadata": {
        "id": "Lb6Q5GVQDvDg"
      },
      "execution_count": 3,
      "outputs": []
    },
    {
      "cell_type": "code",
      "source": [
        "# 하이퍼 파라미터 설정\n",
        "training_epochs = 15 #학습의 횟수\n",
        "batch_size = 100 #모델의 가중치를 한번 업데이트시킬 때 사용되는 샘플들의 묶음\n",
        "\n",
        "#만약 1000개의 훈련 샘플이 존재할 때, 에포크가 15이고 배치 사이즈가 100이면, 가중치를 10번 업데이트하는 것을 총 15번 반복하는 것"
      ],
      "metadata": {
        "id": "84uYcuqCDyr8"
      },
      "execution_count": 4,
      "outputs": []
    },
    {
      "cell_type": "markdown",
      "source": [
        "##**데이터 불러오기**"
      ],
      "metadata": {
        "id": "PL8a8h6FF6Uk"
      }
    },
    {
      "cell_type": "code",
      "source": [
        "# MNIST 데이터셋\n",
        "#트레인셋\n",
        "mnist_train = dsets.MNIST(root='MNIST_data/',\n",
        "                          train=True,\n",
        "                          transform=transforms.ToTensor(),\n",
        "                          download=True)\n",
        "\n",
        "\n",
        "#테스트셋 직접 코드 짜봅시다! \n",
        "#힌트 : 훈련 여부, 텐서 형태로 변환 여부, 다운로드 여부 \n",
        "mnist_test = dsets.MNIST(root='MNIST_data/',\n",
        "                         train=False,\n",
        "                         transform=transforms.ToTensor(),\n",
        "                         download=True\n",
        "                         )"
      ],
      "metadata": {
        "id": "C1CAl99HD0_s"
      },
      "execution_count": 6,
      "outputs": []
    },
    {
      "cell_type": "code",
      "source": [
        "# data loader\n",
        "data_loader = DataLoader(dataset=mnist_train,\n",
        "                                \n",
        "                                          batch_size=batch_size, # 배치 크기는 100\n",
        "                                          shuffle=True,\n",
        "                                          drop_last=True)"
      ],
      "metadata": {
        "id": "T8uMUBIxD3R9"
      },
      "execution_count": 8,
      "outputs": []
    },
    {
      "cell_type": "markdown",
      "source": [
        "##**모델설계**\n",
        "torch.nn.Linear(in_features,out_features,bias = True, device = None,dtype = None)\n"
      ],
      "metadata": {
        "id": "XrERxNm3LhLy"
      }
    },
    {
      "cell_type": "code",
      "source": [
        "# 이미지 크기 28*28\n",
        "linear = nn.Linear(28*28,10,bias=True).to(device)"
      ],
      "metadata": {
        "id": "GK3-QbtKD6i-"
      },
      "execution_count": 9,
      "outputs": []
    },
    {
      "cell_type": "code",
      "source": [
        "# 비용 함수 \n",
        "# 내부적으로 소프트맥스 함수를 계산하고 있음.\n",
        "criterion = nn.CrossEntropyLoss().to(device)\n",
        "\n",
        "#옵티마이저\n",
        "#SGD(확률적 경사하강법)사용, 학습률 0.1\n",
        "optimizer = torch.optim.SGD(linear.parameters(),lr=0.1)"
      ],
      "metadata": {
        "id": "HT-7bSMDD-7L"
      },
      "execution_count": 11,
      "outputs": []
    },
    {
      "cell_type": "markdown",
      "source": [
        "##**모델학습**"
      ],
      "metadata": {
        "id": "UFcDeCs608hE"
      }
    },
    {
      "cell_type": "code",
      "source": [
        "# 여기서 모르는 코드는 pytorch documentation에서 찾아보고 주석처리를 해보시는 것을 추천합니다. \n",
        "for epoch in range(training_epochs): \n",
        "    avg_cost = 0\n",
        "    total_batch = len(data_loader)\n",
        "\n",
        "    for X, Y in data_loader:\n",
        "        X = X.view(-1, 28 * 28).to(device)\n",
        "        Y = Y.to(device)\n",
        "\n",
        "        optimizer.zero_grad()\n",
        "        hypothesis = linear(X)\n",
        "        cost = criterion(hypothesis, Y)\n",
        "        cost.backward()\n",
        "        optimizer.step()\n",
        "\n",
        "        avg_cost += cost / total_batch\n",
        "\n",
        "    print('Epoch:', '%04d' % (epoch + 1), 'cost =', '{:.9f}'.format(avg_cost))\n",
        "\n",
        "print('Learning finished')"
      ],
      "metadata": {
        "colab": {
          "base_uri": "https://localhost:8080/"
        },
        "id": "LcoCV8TxEBES",
        "outputId": "6171271b-3ebb-4d5d-cd3a-a1b8aaa02320"
      },
      "execution_count": 12,
      "outputs": [
        {
          "output_type": "stream",
          "name": "stdout",
          "text": [
            "Epoch: 0001 cost = 0.535150647\n",
            "Epoch: 0002 cost = 0.359577745\n",
            "Epoch: 0003 cost = 0.331264257\n",
            "Epoch: 0004 cost = 0.316404670\n",
            "Epoch: 0005 cost = 0.307106972\n",
            "Epoch: 0006 cost = 0.300456583\n",
            "Epoch: 0007 cost = 0.294933438\n",
            "Epoch: 0008 cost = 0.290956229\n",
            "Epoch: 0009 cost = 0.287074089\n",
            "Epoch: 0010 cost = 0.284515619\n",
            "Epoch: 0011 cost = 0.281914085\n",
            "Epoch: 0012 cost = 0.279526889\n",
            "Epoch: 0013 cost = 0.277636617\n",
            "Epoch: 0014 cost = 0.275874794\n",
            "Epoch: 0015 cost = 0.274422735\n",
            "Learning finished\n"
          ]
        }
      ]
    },
    {
      "cell_type": "markdown",
      "source": [
        "##**모델 테스트하기**"
      ],
      "metadata": {
        "id": "5mLUJ7oY03sp"
      }
    },
    {
      "cell_type": "code",
      "source": [
        "# 모델 테스트\n",
        "with torch.no_grad(): # torch.no_grad()를 하면 gradient 계산을 수행하지 않는다.\n",
        "    X_test = mnist_test.test_data.view(-1, 28 * 28).float().to(device)\n",
        "    Y_test = mnist_test.test_labels.to(device)\n",
        "\n",
        "    prediction = linear(X_test)\n",
        "    correct_prediction = torch.argmax(prediction, 1) == Y_test\n",
        "    accuracy = correct_prediction.float().mean()\n",
        "    print('Accuracy:', accuracy.item())\n",
        "\n",
        "    # 무작위 데이터 예측\n",
        "    r = random.randint(0, len(mnist_test) - 1)\n",
        "    X_single_data = mnist_test.test_data[r:r + 1].view(-1, 28 * 28).float().to(device)\n",
        "    Y_single_data = mnist_test.test_labels[r:r + 1].to(device)\n",
        "\n",
        "    print('Label: ', Y_single_data.item())\n",
        "    single_prediction = linear(X_single_data)\n",
        "    print('Prediction: ', torch.argmax(single_prediction, 1).item())\n",
        "\n",
        "    plt.imshow(mnist_test.test_data[r:r + 1].view(28, 28), cmap='Greys', interpolation='nearest')\n",
        "    plt.show()"
      ],
      "metadata": {
        "colab": {
          "base_uri": "https://localhost:8080/",
          "height": 414
        },
        "id": "60aRLRhlELJr",
        "outputId": "71e56732-17a3-4ecd-fbe3-1868c545b264"
      },
      "execution_count": 13,
      "outputs": [
        {
          "output_type": "stream",
          "name": "stderr",
          "text": [
            "/usr/local/lib/python3.7/dist-packages/torchvision/datasets/mnist.py:67: UserWarning: test_data has been renamed data\n",
            "  warnings.warn(\"test_data has been renamed data\")\n",
            "/usr/local/lib/python3.7/dist-packages/torchvision/datasets/mnist.py:57: UserWarning: test_labels has been renamed targets\n",
            "  warnings.warn(\"test_labels has been renamed targets\")\n"
          ]
        },
        {
          "output_type": "stream",
          "name": "stdout",
          "text": [
            "Accuracy: 0.8883000016212463\n",
            "Label:  8\n",
            "Prediction:  3\n"
          ]
        },
        {
          "output_type": "display_data",
          "data": {
            "image/png": "[encoded data removed]",
            "text/plain": [
              "<Figure size 432x288 with 1 Axes>"
            ]
          },
          "metadata": {
            "needs_background": "light"
          }
        }
      ]
    },
    {
      "cell_type": "code",
      "source": [
        ""
      ],
      "metadata": {
        "id": "_5HHw2QvWf5A"
      },
      "execution_count": null,
      "outputs": []
    }
  ]
}