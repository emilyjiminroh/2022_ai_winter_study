{
  "nbformat": 4,
  "nbformat_minor": 0,
  "metadata": {
    "colab": {
      "name": "경사하강법.ipynb",
      "provenance": [],
      "collapsed_sections": [],
      "authorship_tag": "ABX9TyP7BLhbm0lZ57PRva22noQd",
      "include_colab_link": true
    },
    "kernelspec": {
      "name": "python3",
      "display_name": "Python 3"
    },
    "language_info": {
      "name": "python"
    }
  },
  "cells": [
    {
      "cell_type": "markdown",
      "metadata": {
        "id": "view-in-github",
        "colab_type": "text"
      },
      "source": [
        "<a href=\"https://colab.research.google.com/github/emilyjiminroh/2022_ai_winter_study/blob/main/chapter3/%EA%B2%BD%EC%82%AC%ED%95%98%EA%B0%95%EB%B2%95.ipynb\" target=\"_parent\"><img src=\"https://colab.research.google.com/assets/colab-badge.svg\" alt=\"Open In Colab\"/></a>"
      ]
    },
    {
      "cell_type": "code",
      "execution_count": 1,
      "metadata": {
        "colab": {
          "base_uri": "https://localhost:8080/",
          "height": 955
        },
        "id": "PMX24JcNWsR2",
        "outputId": "2f36cd53-3b5a-4851-c893-df091e8fe8ea"
      },
      "outputs": [
        {
          "output_type": "display_data",
          "data": {
            "image/png": "[encoded data removed]",
            "text/plain": [
              "<Figure size 576x360 with 1 Axes>"
            ]
          },
          "metadata": {
            "needs_background": "light"
          }
        },
        {
          "output_type": "stream",
          "name": "stdout",
          "text": [
            "epoch=0, 기울기=25.9500, 절편=4.4850, a편미분=-865.0000, b편미분=-149.5000\n",
            "epoch=100, 기울기=12.6020, 절편=10.9154, a편미분=0.2789, b편미분=-1.6650\n",
            "epoch=200, 기울기=12.0705, 절편=14.0871, a편미분=0.1050, b편미분=-0.6264\n",
            "epoch=300, 기울기=11.8706, 절편=15.2803, a편미분=0.0395, b편미분=-0.2357\n",
            "epoch=400, 기울기=11.7954, 절편=15.7293, a편미분=0.0149, b편미분=-0.0887\n",
            "epoch=500, 기울기=11.7671, 절편=15.8981, a편미분=0.0056, b편미분=-0.0334\n",
            "epoch=600, 기울기=11.7564, 절편=15.9617, a편미분=0.0021, b편미분=-0.0125\n",
            "epoch=700, 기울기=11.7524, 절편=15.9856, a편미분=0.0008, b편미분=-0.0047\n",
            "epoch=800, 기울기=11.7509, 절편=15.9946, a편미분=0.0003, b편미분=-0.0018\n",
            "epoch=900, 기울기=11.7503, 절편=15.9980, a편미분=0.0001, b편미분=-0.0007\n",
            "epoch=1000, 기울기=11.7501, 절편=15.9992, a편미분=0.0000, b편미분=-0.0003\n",
            "epoch=1100, 기울기=11.7500, 절편=15.9997, a편미분=0.0000, b편미분=-0.0001\n",
            "epoch=1200, 기울기=11.7500, 절편=15.9999, a편미분=0.0000, b편미분=-0.0000\n",
            "epoch=1300, 기울기=11.7500, 절편=16.0000, a편미분=0.0000, b편미분=-0.0000\n",
            "epoch=1400, 기울기=11.7500, 절편=16.0000, a편미분=0.0000, b편미분=-0.0000\n",
            "epoch=1500, 기울기=11.7500, 절편=16.0000, a편미분=0.0000, b편미분=-0.0000\n",
            "epoch=1600, 기울기=11.7500, 절편=16.0000, a편미분=0.0000, b편미분=-0.0000\n",
            "epoch=1700, 기울기=11.7500, 절편=16.0000, a편미분=0.0000, b편미분=-0.0000\n",
            "epoch=1800, 기울기=11.7500, 절편=16.0000, a편미분=0.0000, b편미분=-0.0000\n",
            "epoch=1900, 기울기=11.7500, 절편=16.0000, a편미분=0.0000, b편미분=-0.0000\n",
            "epoch=2000, 기울기=11.7500, 절편=16.0000, a편미분=0.0000, b편미분=-0.0000\n"
          ]
        },
        {
          "output_type": "display_data",
          "data": {
            "image/png": "[encoded data removed]",
            "text/plain": [
              "<Figure size 432x288 with 1 Axes>"
            ]
          },
          "metadata": {
            "needs_background": "light"
          }
        }
      ],
      "source": [
        "import numpy as np\n",
        "import pandas as pd\n",
        "import matplotlib.pyplot as plt\n",
        " \n",
        "# 공부 시간 X와 성적 Y의 리스트 만들기\n",
        "data = [[2, 18],[4, 93], [6, 91], [8, 97]]  # 이차원 배열 \n",
        "\n",
        "### 1.\n",
        "x = [i[0] for i in data]     # 리스트 안 for 문 -> 리스트 내포\n",
        "y = [i[1] for i in data]  # [ 표현식 for 항목 in 리스트 (if 조건문) ]\n",
        "###\n",
        " \n",
        "# 산점도 그래프로 나타내기\n",
        "plt.figure(figsize=(8,5))\n",
        "plt.scatter(x,y)\n",
        "plt.show()\n",
        "\n",
        "# 리스트로 되어 있는 x와 y값을 넘파이 배열로 바꾸기(인덱스를 주어 하나씩 불러와 계산이 가능하게 하기 위함)\n",
        "### 2.\n",
        "x_data = np.array(x)\n",
        "y_data = np.array(y)\n",
        "###\n",
        " \n",
        "# 기울기 a와 절편 b의 값 초기화\n",
        "a = 0\n",
        "b = 0\n",
        " \n",
        "# 학습률 정하기\n",
        "### 3.\n",
        "lr = 0.03\n",
        "### \n",
        "\n",
        "# 몇 번 반복될 지 설정\n",
        "epochs = 2001\n",
        " \n",
        "# 경사 하강법 시작\n",
        "for i in range(epochs): # 에포크 수만큼 반복\n",
        "    y_pred = a * x_data + b # 예측함수: y를 구하는 식 세우기\n",
        "    error = y_data - y_pred # cost function: 오차를 구하는 식\n",
        "    ### 4. \n",
        "    a_diff = -(2/len(x_data))*sum(x_data*(error))        # 오차 함수인 MSE 식을 a에 대해 편미분한 값\n",
        "    b_diff = -(2/len(x_data))*sum(error)    # 오차 함수인 MSE 식을 b로 편미분한 값\n",
        "    ###\n",
        "\n",
        "    # 각 parameter를 편미분 값의 반대 방향으로 학습률만큼 이동시킨다. (a값에 학습률 반영하여 업데이트)\n",
        "    # 왜 - 부호를 곱하는 걸까?\n",
        "    # => 가운데로 모아주기 위해!!\n",
        "    ### 5.\n",
        "    a = a - lr*a_diff  #학습률을 곱해 기존의 a값 업데이트\n",
        "    b = b - lr*b_diff  #학습률을 곱해 기존의 b값 업데이트\n",
        "    ###\n",
        "    \n",
        "    if i % 100 == 0: # 100번 반복될 때마다 현재의 a값, b값 출력\n",
        "        print(\"epoch=%.f, 기울기=%.04f, 절편=%.04f, a편미분=%.04f, b편미분=%.04f\" %(i, a , b,a_diff,b_diff))\n",
        " \n",
        " \n",
        "# 앞서 구한 기울기와 절편을 이용해 그래프 다시 그리기\n",
        "y_pred = a * x_data + b\n",
        "plt.scatter(x,y)\n",
        "\n",
        " # 예측함수 그래프 그리기\n",
        "### 6.\n",
        "plt.plot([min(x_data),max(x_data)],[min(y_pred),max(y_pred)])      # 두 좌표 점만 있으면 직선 그을 수 있음\n",
        "###\n",
        "plt.show()"
      ]
    },
    {
      "cell_type": "code",
      "source": [
        ""
      ],
      "metadata": {
        "id": "3EEFY0vKa9Ib"
      },
      "execution_count": null,
      "outputs": []
    }
  ]
}