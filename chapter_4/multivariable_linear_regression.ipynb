{
 "cells": [
  {
   "cell_type": "code",
   "execution_count": 1,
   "id": "8a34d2f5",
   "metadata": {},
   "outputs": [],
   "source": [
    "import numpy as np\n",
    "import pandas as pd\n",
    "import matplotlib.pyplot as plt\n",
    "from mpl_toolkits import mplot3d # 3D 그래프 그리는 라이브러리\n",
    "\n",
    "# 공부 시간 x와 y의 성적 리스트 만들기\n",
    "data = [[2,0,81],[4,4,93],[6,2,91],[8,3,97]]\n",
    "# x와 y 리스트 선언\n",
    "x1 = [i[0] for i in data]\n",
    "x2 = [i[1] for i in data]\n",
    "y = [i[2] for i in data]"
   ]
  },
  {
   "cell_type": "code",
   "execution_count": 2,
   "id": "6844903a",
   "metadata": {},
   "outputs": [
    {
     "data": {
      "image/png": "[encoded data removed]",
      "text/plain": [
       "<Figure size 432x288 with 1 Axes>"
      ]
     },
     "metadata": {
      "needs_background": "light"
     },
     "output_type": "display_data"
    }
   ],
   "source": [
    "ax = plt.axes(projection='3d') # 그래프 유형 정하기\n",
    "ax.set_xlabel('study_hours')\n",
    "ax.set_ylabel('private_class')\n",
    "ax.set_zlabel('Score')\n",
    "ax.scatter(x1,x2,y)\n",
    "plt.show()"
   ]
  },
  {
   "cell_type": "code",
   "execution_count": 3,
   "id": "bd5d0513",
   "metadata": {},
   "outputs": [],
   "source": [
    "x1_data = np.array(x1)\n",
    "x2_data = np.array(x2)\n",
    "y_data = np.array(y)"
   ]
  },
  {
   "cell_type": "code",
   "execution_count": 4,
   "id": "0f7a233d",
   "metadata": {},
   "outputs": [],
   "source": [
    "# 기울기 a와 절편 b 값 초기화\n",
    "a1=0\n",
    "a2=0\n",
    "b=0"
   ]
  },
  {
   "cell_type": "code",
   "execution_count": 5,
   "id": "f79d314c",
   "metadata": {},
   "outputs": [],
   "source": [
    "# 학습률\n",
    "lr = 0.02"
   ]
  },
  {
   "cell_type": "code",
   "execution_count": 6,
   "id": "b1ad0082",
   "metadata": {},
   "outputs": [],
   "source": [
    "# 반복 횟수 + 1\n",
    "epochs = 2001"
   ]
  },
  {
   "cell_type": "code",
   "execution_count": 10,
   "id": "1ef5295f",
   "metadata": {},
   "outputs": [
    {
     "name": "stdout",
     "output_type": "stream",
     "text": [
      "epoch=0, 기울기1=11.7579, 기울기2=5.4460, 절편=3.9353, a1편미분=100.2939,a2편미분=44.1920, b편미분=-7.2996\n",
      "epoch=100, 기울기1=7.1896, 기울기2=4.2490, 절편=38.7957, a1편미분=1.8178,a2편미분=0.6242, b편미분=-12.4714\n",
      "epoch=200, 기울기1=4.5103, 기울기2=3.3251, 절편=57.1886, a1편미분=0.9611,a2편미분=0.3318, b편미분=-6.5990\n",
      "epoch=300, 기울기1=3.0928, 기울기2=2.8357, 절편=66.9208, a1편미분=0.5086,a2편미분=0.1756, b편미분=-3.4917\n",
      "epoch=400, 기울기1=2.3428, 기울기2=2.5767, 절편=72.0704, a1편미분=0.2691,a2편미분=0.0929, b편미분=-1.8476\n",
      "epoch=500, 기울기1=1.9460, 기울기2=2.4397, 절편=74.7952, a1편미분=0.1424,a2편미분=0.0492, b편미분=-0.9776\n",
      "epoch=600, 기울기1=1.7360, 기울기2=2.3672, 절편=76.2370, a1편미분=0.0753,a2편미분=0.0260, b편미분=-0.5173\n",
      "epoch=700, 기울기1=1.6249, 기울기2=2.3288, 절편=76.9999, a1편미분=0.0399,a2편미분=0.0138, b편미분=-0.2737\n",
      "epoch=800, 기울기1=1.5661, 기울기2=2.3085, 절편=77.4035, a1편미분=0.0211,a2편미분=0.0073, b편미분=-0.1448\n",
      "epoch=900, 기울기1=1.5350, 기울기2=2.2978, 절편=77.6171, a1편미분=0.0112,a2편미분=0.0039, b편미분=-0.0766\n",
      "epoch=1000, 기울기1=1.5185, 기울기2=2.2921, 절편=77.7301, a1편미분=0.0059,a2편미분=0.0020, b편미분=-0.0405\n",
      "epoch=1100, 기울기1=1.5098, 기울기2=2.2891, 절편=77.7899, a1편미분=0.0031,a2편미분=0.0011, b편미분=-0.0215\n",
      "epoch=1200, 기울기1=1.5052, 기울기2=2.2875, 절편=77.8216, a1편미분=0.0017,a2편미분=0.0006, b편미분=-0.0114\n",
      "epoch=1300, 기울기1=1.5027, 기울기2=2.2867, 절편=77.8383, a1편미분=0.0009,a2편미분=0.0003, b편미분=-0.0060\n",
      "epoch=1400, 기울기1=1.5014, 기울기2=2.2862, 절편=77.8472, a1편미분=0.0005,a2편미분=0.0002, b편미분=-0.0032\n",
      "epoch=1500, 기울기1=1.5008, 기울기2=2.2860, 절편=77.8519, a1편미분=0.0002,a2편미분=0.0001, b편미분=-0.0017\n",
      "epoch=1600, 기울기1=1.5004, 기울기2=2.2859, 절편=77.8544, a1편미분=0.0001,a2편미분=0.0000, b편미분=-0.0009\n",
      "epoch=1700, 기울기1=1.5002, 기울기2=2.2858, 절편=77.8557, a1편미분=0.0001,a2편미분=0.0000, b편미분=-0.0005\n",
      "epoch=1800, 기울기1=1.5001, 기울기2=2.2858, 절편=77.8564, a1편미분=0.0000,a2편미분=0.0000, b편미분=-0.0002\n",
      "epoch=1900, 기울기1=1.5001, 기울기2=2.2857, 절편=77.8567, a1편미분=0.0000,a2편미분=0.0000, b편미분=-0.0001\n",
      "epoch=2000, 기울기1=1.5000, 기울기2=2.2857, 절편=77.8569, a1편미분=0.0000,a2편미분=0.0000, b편미분=-0.0001\n"
     ]
    }
   ],
   "source": [
    "# 경사하강법 시작\n",
    "for i in range(epochs):\n",
    "    y_pred = a1 * x1_data + a2*x2_data +b # y 구하는 식 세우기\n",
    "    error = y_data - y_pred  #오차 구하는 식\n",
    "\n",
    "    # 평균 제곱 오차를 a로 미분한 결과\n",
    "    a1_diff = -(2/len(x1_data)) * sum(x1_data *(error))\n",
    "    a2_diff = -(2/len(x2_data)) * sum(x2_data *(error))\n",
    "\n",
    "    # 편균 제곱 오차를 b로 미분한 결과\n",
    "    b_diff = -(2/len(x1_data)) * sum(y_data - y_pred)\n",
    "    \n",
    "    a1 = a1 - lr * a1_diff # 미분 결과에 학습률 곱한 후 기존의 a1 값 업데이트\n",
    "    a2 = a2 - lr * a2_diff # 미분 결과에 학습률 곱한 후 기존의 a2 값 업데이트\n",
    "    b = b - lr * b_diff # 미분 결과에 학습률 곱한 후 기존의 b 값 업데이트\n",
    "    \n",
    "    if i%100 == 0:\n",
    "         print(\"epoch=%.f, 기울기1=%.04f, 기울기2=%.04f, 절편=%.04f, a1편미분=%.04f,a2편미분=%.04f, b편미분=%.04f\" %(i, a1 ,a2, b,a1_diff,a2_diff,b_diff))\n",
    " "
   ]
  },
  {
   "cell_type": "code",
   "execution_count": null,
   "id": "210353de",
   "metadata": {},
   "outputs": [],
   "source": []
  },
  {
   "cell_type": "code",
   "execution_count": null,
   "id": "dc751f80",
   "metadata": {},
   "outputs": [],
   "source": []
  },
  {
   "cell_type": "code",
   "execution_count": null,
   "id": "4c5d535a",
   "metadata": {},
   "outputs": [],
   "source": []
  },
  {
   "cell_type": "code",
   "execution_count": null,
   "id": "e9fd35fd",
   "metadata": {},
   "outputs": [],
   "source": []
  },
  {
   "cell_type": "code",
   "execution_count": null,
   "id": "48ea473a",
   "metadata": {},
   "outputs": [],
   "source": []
  },
  {
   "cell_type": "code",
   "execution_count": null,
   "id": "7c707ed4",
   "metadata": {},
   "outputs": [],
   "source": []
  },
  {
   "cell_type": "code",
   "execution_count": null,
   "id": "41a64613",
   "metadata": {},
   "outputs": [],
   "source": []
  },
  {
   "cell_type": "code",
   "execution_count": null,
   "id": "27e0edfe",
   "metadata": {},
   "outputs": [],
   "source": []
  },
  {
   "cell_type": "code",
   "execution_count": null,
   "id": "0f3f8b2b",
   "metadata": {},
   "outputs": [],
   "source": []
  },
  {
   "cell_type": "code",
   "execution_count": null,
   "id": "ecfa1d04",
   "metadata": {},
   "outputs": [],
   "source": []
  },
  {
   "cell_type": "code",
   "execution_count": null,
   "id": "f21e8ff6",
   "metadata": {},
   "outputs": [],
   "source": []
  },
  {
   "cell_type": "code",
   "execution_count": null,
   "id": "caca1b2b",
   "metadata": {},
   "outputs": [],
   "source": []
  },
  {
   "cell_type": "code",
   "execution_count": null,
   "id": "5f430661",
   "metadata": {},
   "outputs": [],
   "source": []
  },
  {
   "cell_type": "code",
   "execution_count": null,
   "id": "fb4e5bf1",
   "metadata": {},
   "outputs": [],
   "source": []
  }
 ],
 "metadata": {
  "kernelspec": {
   "display_name": "Python 3",
   "language": "python",
   "name": "python3"
  },
  "language_info": {
   "codemirror_mode": {
    "name": "ipython",
    "version": 3
   },
   "file_extension": ".py",
   "mimetype": "text/x-python",
   "name": "python",
   "nbconvert_exporter": "python",
   "pygments_lexer": "ipython3",
   "version": "3.8.8"
  }
 },
 "nbformat": 4,
 "nbformat_minor": 5
}
